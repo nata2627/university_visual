{
  "nbformat": 4,
  "nbformat_minor": 0,
  "metadata": {
    "colab": {
      "provenance": []
    },
    "kernelspec": {
      "name": "python3",
      "display_name": "Python 3"
    },
    "language_info": {
      "name": "python"
    }
  },
  "cells": [
    {
      "cell_type": "markdown",
      "source": [
        "# ПАРСЕР ДЛЯ САЙТА ПОСТУПИ.ОНЛАЙН:\n",
        "Скачиваем данные по таким категориям, как 'Название программы', 'Бюджетные', 'Платные', 'Стоимость обучения', 'Направление подготовки'"
      ],
      "metadata": {
        "id": "cvDNOZejbumH"
      }
    },
    {
      "cell_type": "code",
      "source": [
        "import requests\n",
        "from bs4 import BeautifulSoup\n",
        "\n",
        "# URL of the page to parse\n",
        "url = \"https://msk.postupi.online/vuz/ranhigs/programmy-obucheniya/magistratura/?utm_module=vuz&utm_vuz=8\"\n",
        "\n",
        "# Initialize an empty list to store the parsed data\n",
        "parsed_data = []\n",
        "\n",
        "# Iterate over each page\n",
        "for page_num in range(0, 8):\n",
        "    # Send a GET request to the URL with the current page number\n",
        "    response = requests.get(f\"{url}&page_num={page_num}&utm_module=vuz&utm_vuz=8\")\n",
        "\n",
        "    # Parse the HTML content using BeautifulSoup\n",
        "    soup = BeautifulSoup(response.content, 'html.parser')\n",
        "\n",
        "    # Find all list items with the class \"list\"\n",
        "    list_items = soup.find_all('li', class_='list')\n",
        "\n",
        "    # Iterate over each list item\n",
        "    for item in list_items:\n",
        "        # Extract the program name\n",
        "        program_name = item.find('h2', class_='list__h').text.strip()\n",
        "\n",
        "        info = item.find_all('p', class_='list__score')\n",
        "        inn1 = info[0].text\n",
        "        inn2 = info[1].text\n",
        "\n",
        "        # Extract the number of budgetary and paid places\n",
        "        budget_places = inn1.strip().split()[3]\n",
        "        paid_places = inn2.strip().split()[3]\n",
        "\n",
        "\n",
        "        # Extract the cost of education\n",
        "        cost_element = item.find('span', class_='list__price')\n",
        "        if cost_element:\n",
        "            cost = cost_element.text.strip().replace('от', '').replace('<b>', '').replace('</b>', '').replace(' руб.', '').replace(' ', '').replace('Информация о стоимости обучения предоставлена за', '').replace('год', '').replace(' ', '')\n",
        "            cost = cost[:6]\n",
        "        else:\n",
        "            cost = ''\n",
        "\n",
        "        # Extract the form of preparation\n",
        "        form = item.find('p', class_='list__pre').text.strip().split()[0]\n",
        "\n",
        "        # Create a dictionary to store the parsed data\n",
        "        parsed_item = {\n",
        "            'Название программы': program_name,\n",
        "            'Бюджетные': budget_places,\n",
        "            'Платные': paid_places,\n",
        "            'Стоимость обучения': cost,\n",
        "            'Направление подготовки': form\n",
        "        }\n",
        "\n",
        "        # Add the parsed item to the list\n",
        "        parsed_data.append(parsed_item)\n",
        "\n",
        "# Save the parsed data to a CSV file\n",
        "with open('parsed_data00.csv', 'w', newline='', encoding='utf-8') as csvfile:\n",
        "    fieldnames = ['Название программы', 'Бюджетные', 'Платные', 'Стоимость обучения', 'Направление подготовки']\n",
        "    writer = csv.DictWriter(csvfile, fieldnames=fieldnames)\n",
        "\n",
        "    writer.writeheader()\n",
        "    for item in parsed_data:\n",
        "        writer.writerow(item)\n",
        "\n",
        "print(\"Data saved to parsed_data00.csv\")"
      ],
      "metadata": {
        "colab": {
          "base_uri": "https://localhost:8080/"
        },
        "id": "niQuWMmbNoWO",
        "outputId": "f6634a26-2994-4ebd-ef08-1fe165deda04"
      },
      "execution_count": 51,
      "outputs": [
        {
          "output_type": "stream",
          "name": "stdout",
          "text": [
            "Data saved to parsed_data00.csv\n"
          ]
        }
      ]
    }
  ]
}